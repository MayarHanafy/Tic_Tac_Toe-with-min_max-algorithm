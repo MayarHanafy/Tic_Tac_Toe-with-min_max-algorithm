{
 "cells": [
  {
   "cell_type": "code",
   "execution_count": 1,
   "id": "8c005623-9b33-49b1-aa69-639e42478e4f",
   "metadata": {},
   "outputs": [
    {
     "name": "stdout",
     "output_type": "stream",
     "text": [
      "+-------+-------+-------+\n",
      "|       |       |       |\n",
      "|   1   |   2   |   3   |\n",
      "|       |       |       |\n",
      "+-------+-------+-------+\n",
      "|       |       |       |\n",
      "|   4   |   5   |   6   |\n",
      "|       |       |       |\n",
      "+-------+-------+-------+\n",
      "|       |       |       |\n",
      "|   7   |   8   |   9   |\n",
      "|       |       |       |\n",
      "+-------+-------+-------+\n"
     ]
    }
   ],
   "source": [
    "from random import randrange\n",
    "\n",
    "\n",
    "board = [['1','2','3'],['4','5','6'],['7','8','9']]\n",
    "def DisplayBoard(board):\n",
    "\tprint(\"+-------\" * 3,\"+\",sep=\"\")\n",
    "\tfor row in range(3):\n",
    "\t\tprint(\"|       \" * 3,\"|\",sep=\"\")\n",
    "\t\tfor col in range(3):\n",
    "\t\t\tprint(\"|   \" + str(board[row][col]) + \"   \",end=\"\")\n",
    "\t\tprint(\"|\")\n",
    "\t\tprint(\"|       \" * 3,\"|\",sep=\"\")\n",
    "\t\tprint(\"+-------\" * 3,\"+\",sep=\"\")\n",
    "  \n",
    "DisplayBoard(board)"
   ]
  },
  {
   "cell_type": "code",
   "execution_count": 2,
   "id": "910990f1-1f51-4a82-a371-3210b5cee33b",
   "metadata": {},
   "outputs": [
    {
     "name": "stdin",
     "output_type": "stream",
     "text": [
      "Enter your move: 3\n"
     ]
    },
    {
     "name": "stdout",
     "output_type": "stream",
     "text": [
      "+-------+-------+-------+\n",
      "|       |       |       |\n",
      "|   1   |   2   |   O   |\n",
      "|       |       |       |\n",
      "+-------+-------+-------+\n",
      "|       |       |       |\n",
      "|   4   |   5   |   6   |\n",
      "|       |       |       |\n",
      "+-------+-------+-------+\n",
      "|       |       |       |\n",
      "|   7   |   8   |   9   |\n",
      "|       |       |       |\n",
      "+-------+-------+-------+\n"
     ]
    }
   ],
   "source": [
    "def EnterMove(board):\n",
    "    while True:\n",
    "      move = int(input(\"Enter your move:\"))\n",
    "      if move<1  or move>9:\n",
    "        print(\"the input is not valid reenter it \")\n",
    "        continue\n",
    "      elif str(move) not in board[0] and str(move) not in board[1] and str(move) not in board[2]:\n",
    "        print(\"this cell is tooken before renter your move\")\n",
    "        continue\n",
    "      for r in range(3):\n",
    "        for c in range (3):\n",
    "          if board[r][c]==str(move):\n",
    "            board[r][c]='O'\n",
    "      break\n",
    "EnterMove(board)  \n",
    "DisplayBoard(board)"
   ]
  },
  {
   "cell_type": "code",
   "execution_count": 4,
   "id": "d247cfed-873c-4314-8443-fe91e80c7a2b",
   "metadata": {},
   "outputs": [],
   "source": [
    "def MakeListOfFreeFields(board):\n",
    "  global free\n",
    "  free=[]\n",
    "  for r in range(3):\n",
    "    for c in range(3):\n",
    "      if 'X' not in board[r][c] and 'O' not in board[r][c]:\n",
    "        free.append((r,c))"
   ]
  },
  {
   "cell_type": "code",
   "execution_count": 5,
   "id": "4d73c67f-9a4f-471f-9eac-74c985bbe8e2",
   "metadata": {},
   "outputs": [],
   "source": [
    "def VictoryFor(board,sign):\n",
    "  s=[sign,sign,sign]\n",
    "  f=0\n",
    "\n",
    "  for i in range(3):\n",
    "    a=[j[i] for j in board]   # get the column \n",
    "    if board[i]==s:   # check the row\n",
    "      f=1\n",
    "      return True\n",
    "    elif a==s:   # check the column\n",
    "      f=1\n",
    "      return True\n",
    "\n",
    "# check the diagonal \n",
    "  if f == 0:  \n",
    "    if board[0][0]==sign and board[1][1]==sign and board[2][2]==sign:\n",
    "      return True\n",
    "    elif board[0][2]==sign and board[1][1]==sign and board[2][0]==sign:\n",
    "      return True "
   ]
  },
  {
   "cell_type": "code",
   "execution_count": 6,
   "id": "b1ee65c1-8911-411e-ba4d-8f27059a64e7",
   "metadata": {},
   "outputs": [],
   "source": [
    "def cmp_move(board):\n",
    "  best_score=-1e7\n",
    "  best_movei,best_movej=0,0\n",
    "  for r in range(3):\n",
    "    for c in range(3):\n",
    "        if (r,c) in free:\n",
    "          num=board[r][c]\n",
    "          board[r][c]='X'\n",
    "          MakeListOfFreeFields(board)\n",
    "          score = minmax(board,0,False)\n",
    "          board[r][c]=num\n",
    "          MakeListOfFreeFields(board)\n",
    "          if(score>best_score):\n",
    "            best_score=score\n",
    "            best_movei=r\n",
    "            best_movej=c\n",
    "  board[best_movei][best_movej]='X'\n",
    "  return    "
   ]
  },
  {
   "cell_type": "code",
   "execution_count": 7,
   "id": "30d51281-f665-4efe-a0d9-d97771d9255e",
   "metadata": {},
   "outputs": [],
   "source": [
    "def minmax(board,depth,ismax):\n",
    "\n",
    "  if (len(free)==0 and not VictoryFor(board,'O')  and not VictoryFor(board,'X') ):\n",
    "    return 0\n",
    "  elif VictoryFor(board,'O'):\n",
    "    return -50\n",
    "  elif VictoryFor(board,'X'):\n",
    "    return 50\n",
    "\n",
    "\n",
    "  if ismax:\n",
    "     best_score=-1e7\n",
    "     for r in range(3):\n",
    "       for c in range(3):\n",
    "          if (r,c) in free:\n",
    "            num=board[r][c]\n",
    "            board[r][c]='X'\n",
    "            MakeListOfFreeFields(board)\n",
    "            score = minmax(board,depth+1,False)\n",
    "            board[r][c]=num\n",
    "            MakeListOfFreeFields(board)\n",
    "            best_score=max(best_score,score)\n",
    "     return best_score\n",
    "  \n",
    "  else:\n",
    "     best_score=1e7\n",
    "     for r in range(3):\n",
    "       for c in range(3):\n",
    "          if (r,c) in free:\n",
    "            num=board[r][c]\n",
    "            board[r][c]='O'\n",
    "            MakeListOfFreeFields(board)\n",
    "            score = minmax(board,depth+1,True)\n",
    "            board[r][c]=num\n",
    "            MakeListOfFreeFields(board)\n",
    "            best_score=min(best_score,score)\n",
    "     return best_score\n",
    "       "
   ]
  },
  {
   "cell_type": "code",
   "execution_count": null,
   "id": "934858f8-1f67-4c83-9a2a-1fe584019fac",
   "metadata": {},
   "outputs": [],
   "source": []
  }
 ],
 "metadata": {
  "kernelspec": {
   "display_name": "Python 3",
   "language": "python",
   "name": "python3"
  },
  "language_info": {
   "codemirror_mode": {
    "name": "ipython",
    "version": 3
   },
   "file_extension": ".py",
   "mimetype": "text/x-python",
   "name": "python",
   "nbconvert_exporter": "python",
   "pygments_lexer": "ipython3",
   "version": "3.8.8"
  }
 },
 "nbformat": 4,
 "nbformat_minor": 5
}
