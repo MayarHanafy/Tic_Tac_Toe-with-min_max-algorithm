{
 "cells": [
  {
   "cell_type": "code",
   "execution_count": 1,
   "id": "8c005623-9b33-49b1-aa69-639e42478e4f",
   "metadata": {},
   "outputs": [
    {
     "name": "stdout",
     "output_type": "stream",
     "text": [
      "+-------+-------+-------+\n",
      "|       |       |       |\n",
      "|   1   |   2   |   3   |\n",
      "|       |       |       |\n",
      "+-------+-------+-------+\n",
      "|       |       |       |\n",
      "|   4   |   5   |   6   |\n",
      "|       |       |       |\n",
      "+-------+-------+-------+\n",
      "|       |       |       |\n",
      "|   7   |   8   |   9   |\n",
      "|       |       |       |\n",
      "+-------+-------+-------+\n"
     ]
    }
   ],
   "source": [
    "from random import randrange\n",
    "\n",
    "\n",
    "board = [['1','2','3'],['4','5','6'],['7','8','9']]\n",
    "def DisplayBoard(board):\n",
    "\tprint(\"+-------\" * 3,\"+\",sep=\"\")\n",
    "\tfor row in range(3):\n",
    "\t\tprint(\"|       \" * 3,\"|\",sep=\"\")\n",
    "\t\tfor col in range(3):\n",
    "\t\t\tprint(\"|   \" + str(board[row][col]) + \"   \",end=\"\")\n",
    "\t\tprint(\"|\")\n",
    "\t\tprint(\"|       \" * 3,\"|\",sep=\"\")\n",
    "\t\tprint(\"+-------\" * 3,\"+\",sep=\"\")\n",
    "  \n",
    "DisplayBoard(board)"
   ]
  },
  {
   "cell_type": "code",
   "execution_count": 2,
   "id": "910990f1-1f51-4a82-a371-3210b5cee33b",
   "metadata": {},
   "outputs": [
    {
     "name": "stdin",
     "output_type": "stream",
     "text": [
      "Enter your move: 3\n"
     ]
    },
    {
     "name": "stdout",
     "output_type": "stream",
     "text": [
      "+-------+-------+-------+\n",
      "|       |       |       |\n",
      "|   1   |   2   |   O   |\n",
      "|       |       |       |\n",
      "+-------+-------+-------+\n",
      "|       |       |       |\n",
      "|   4   |   5   |   6   |\n",
      "|       |       |       |\n",
      "+-------+-------+-------+\n",
      "|       |       |       |\n",
      "|   7   |   8   |   9   |\n",
      "|       |       |       |\n",
      "+-------+-------+-------+\n"
     ]
    }
   ],
   "source": [
    "def EnterMove(board):\n",
    "    while True:\n",
    "      move = int(input(\"Enter your move:\"))\n",
    "      if move<1  or move>9:\n",
    "        print(\"the input is not valid reenter it \")\n",
    "        continue\n",
    "      elif str(move) not in board[0] and str(move) not in board[1] and str(move) not in board[2]:\n",
    "        print(\"this cell is tooken before renter your move\")\n",
    "        continue\n",
    "      for r in range(3):\n",
    "        for c in range (3):\n",
    "          if board[r][c]==str(move):\n",
    "            board[r][c]='O'\n",
    "      break\n",
    "EnterMove(board)  \n",
    "DisplayBoard(board)"
   ]
  },
  {
   "cell_type": "code",
   "execution_count": null,
   "id": "d247cfed-873c-4314-8443-fe91e80c7a2b",
   "metadata": {},
   "outputs": [],
   "source": []
  }
 ],
 "metadata": {
  "kernelspec": {
   "display_name": "Python 3",
   "language": "python",
   "name": "python3"
  },
  "language_info": {
   "codemirror_mode": {
    "name": "ipython",
    "version": 3
   },
   "file_extension": ".py",
   "mimetype": "text/x-python",
   "name": "python",
   "nbconvert_exporter": "python",
   "pygments_lexer": "ipython3",
   "version": "3.8.8"
  }
 },
 "nbformat": 4,
 "nbformat_minor": 5
}
